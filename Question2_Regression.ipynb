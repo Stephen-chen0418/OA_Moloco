{
 "cells": [
  {
   "cell_type": "code",
   "execution_count": 331,
   "metadata": {},
   "outputs": [
    {
     "data": {
      "text/html": [
       "<div>\n",
       "<style scoped>\n",
       "    .dataframe tbody tr th:only-of-type {\n",
       "        vertical-align: middle;\n",
       "    }\n",
       "\n",
       "    .dataframe tbody tr th {\n",
       "        vertical-align: top;\n",
       "    }\n",
       "\n",
       "    .dataframe thead th {\n",
       "        text-align: right;\n",
       "    }\n",
       "</style>\n",
       "<table border=\"1\" class=\"dataframe\">\n",
       "  <thead>\n",
       "    <tr style=\"text-align: right;\">\n",
       "      <th></th>\n",
       "      <th>A</th>\n",
       "      <th>B</th>\n",
       "      <th>C</th>\n",
       "    </tr>\n",
       "  </thead>\n",
       "  <tbody>\n",
       "    <tr>\n",
       "      <td>0</td>\n",
       "      <td>0.490</td>\n",
       "      <td>-0.180</td>\n",
       "      <td>11.50</td>\n",
       "    </tr>\n",
       "    <tr>\n",
       "      <td>1</td>\n",
       "      <td>-1.410</td>\n",
       "      <td>-1.230</td>\n",
       "      <td>11.80</td>\n",
       "    </tr>\n",
       "    <tr>\n",
       "      <td>2</td>\n",
       "      <td>0.943</td>\n",
       "      <td>4.510</td>\n",
       "      <td>-3.24</td>\n",
       "    </tr>\n",
       "    <tr>\n",
       "      <td>3</td>\n",
       "      <td>3.570</td>\n",
       "      <td>5.070</td>\n",
       "      <td>-23.90</td>\n",
       "    </tr>\n",
       "    <tr>\n",
       "      <td>4</td>\n",
       "      <td>-1.700</td>\n",
       "      <td>6.910</td>\n",
       "      <td>-22.10</td>\n",
       "    </tr>\n",
       "    <tr>\n",
       "      <td>...</td>\n",
       "      <td>...</td>\n",
       "      <td>...</td>\n",
       "      <td>...</td>\n",
       "    </tr>\n",
       "    <tr>\n",
       "      <td>295</td>\n",
       "      <td>6.920</td>\n",
       "      <td>-0.421</td>\n",
       "      <td>33.20</td>\n",
       "    </tr>\n",
       "    <tr>\n",
       "      <td>296</td>\n",
       "      <td>11.700</td>\n",
       "      <td>-1.290</td>\n",
       "      <td>108.00</td>\n",
       "    </tr>\n",
       "    <tr>\n",
       "      <td>297</td>\n",
       "      <td>9.920</td>\n",
       "      <td>3.690</td>\n",
       "      <td>-126.00</td>\n",
       "    </tr>\n",
       "    <tr>\n",
       "      <td>298</td>\n",
       "      <td>11.400</td>\n",
       "      <td>6.290</td>\n",
       "      <td>-315.00</td>\n",
       "    </tr>\n",
       "    <tr>\n",
       "      <td>299</td>\n",
       "      <td>10.900</td>\n",
       "      <td>2.570</td>\n",
       "      <td>-97.70</td>\n",
       "    </tr>\n",
       "  </tbody>\n",
       "</table>\n",
       "<p>300 rows × 3 columns</p>\n",
       "</div>"
      ],
      "text/plain": [
       "          A      B       C\n",
       "0     0.490 -0.180   11.50\n",
       "1    -1.410 -1.230   11.80\n",
       "2     0.943  4.510   -3.24\n",
       "3     3.570  5.070  -23.90\n",
       "4    -1.700  6.910  -22.10\n",
       "..      ...    ...     ...\n",
       "295   6.920 -0.421   33.20\n",
       "296  11.700 -1.290  108.00\n",
       "297   9.920  3.690 -126.00\n",
       "298  11.400  6.290 -315.00\n",
       "299  10.900  2.570  -97.70\n",
       "\n",
       "[300 rows x 3 columns]"
      ]
     },
     "execution_count": 331,
     "metadata": {},
     "output_type": "execute_result"
    }
   ],
   "source": [
    "# Question 2\n",
    "\n",
    "import numpy as np\n",
    "import matplotlib.pyplot as plt\n",
    "import pandas as pd \n",
    "import seaborn as sns\n",
    "\n",
    "# Import data into Pandas Data Frame\n",
    "data = pd.read_csv('regression.csv', header=None, names=['A','B','C'])\n",
    "data"
   ]
  },
  {
   "cell_type": "code",
   "execution_count": 332,
   "metadata": {},
   "outputs": [
    {
     "data": {
      "text/plain": [
       "<matplotlib.axes._subplots.AxesSubplot at 0x1a1d35e6d0>"
      ]
     },
     "execution_count": 332,
     "metadata": {},
     "output_type": "execute_result"
    },
    {
     "data": {
      "image/png": "[encoded data removed]",
      "text/plain": [
       "<Figure size 432x288 with 1 Axes>"
      ]
     },
     "metadata": {
      "needs_background": "light"
     },
     "output_type": "display_data"
    }
   ],
   "source": [
    "# Explore the data\n",
    "\n",
    "sns.boxplot(x=data['A'])"
   ]
  },
  {
   "cell_type": "code",
   "execution_count": 333,
   "metadata": {},
   "outputs": [
    {
     "data": {
      "text/plain": [
       "<matplotlib.axes._subplots.AxesSubplot at 0x1a1be7ef90>"
      ]
     },
     "execution_count": 333,
     "metadata": {},
     "output_type": "execute_result"
    },
    {
     "data": {
      "image/png": "[encoded data removed]",
      "text/plain": [
       "<Figure size 432x288 with 1 Axes>"
      ]
     },
     "metadata": {
      "needs_background": "light"
     },
     "output_type": "display_data"
    }
   ],
   "source": [
    "sns.boxplot(x=data['B'])"
   ]
  },
  {
   "cell_type": "code",
   "execution_count": 334,
   "metadata": {},
   "outputs": [
    {
     "data": {
      "text/plain": [
       "<matplotlib.axes._subplots.AxesSubplot at 0x1a1d407d90>"
      ]
     },
     "execution_count": 334,
     "metadata": {},
     "output_type": "execute_result"
    },
    {
     "data": {
      "image/png": "[encoded data removed]",
      "text/plain": [
       "<Figure size 432x288 with 1 Axes>"
      ]
     },
     "metadata": {
      "needs_background": "light"
     },
     "output_type": "display_data"
    }
   ],
   "source": [
    "sns.boxplot(x=data['C'])\n",
    "# Found outliner with boxplot"
   ]
  },
  {
   "cell_type": "code",
   "execution_count": 335,
   "metadata": {},
   "outputs": [
    {
     "data": {
      "text/plain": [
       "(278, 3)"
      ]
     },
     "execution_count": 335,
     "metadata": {},
     "output_type": "execute_result"
    }
   ],
   "source": [
    "# Remove outliners.\n",
    "Q1 = data.quantile(0.25)\n",
    "Q3 = data.quantile(0.75)\n",
    "IQR = Q3 - Q1\n",
    "data = data[~((data < (Q1 - 3 * IQR)) | (data > (Q3 + 3 * IQR))).any(axis=1)]\n",
    "data.shape"
   ]
  },
  {
   "cell_type": "code",
   "execution_count": 336,
   "metadata": {
    "scrolled": false
   },
   "outputs": [
    {
     "data": {
      "image/png": "[encoded data removed]",
      "text/plain": [
       "<Figure size 432x288 with 1 Axes>"
      ]
     },
     "metadata": {
      "needs_background": "light"
     },
     "output_type": "display_data"
    }
   ],
   "source": [
    "data.plot(x='A', y='C', style='o')  \n",
    "plt.title('A vs C')  \n",
    "plt.xlabel('A')  \n",
    "plt.ylabel('C')  \n",
    "plt.show()\n",
    "# Heteroscedasticity needs to be addressed."
   ]
  },
  {
   "cell_type": "code",
   "execution_count": 337,
   "metadata": {},
   "outputs": [
    {
     "data": {
      "image/png": "[encoded data removed]",
      "text/plain": [
       "<Figure size 432x288 with 1 Axes>"
      ]
     },
     "metadata": {
      "needs_background": "light"
     },
     "output_type": "display_data"
    }
   ],
   "source": [
    "data.plot(x='B', y='C', style='o')  \n",
    "plt.title('B vs C')  \n",
    "plt.xlabel('A')  \n",
    "plt.ylabel('C')  \n",
    "plt.show()\n",
    "# Heteroscedasticity needs to be addressed."
   ]
  },
  {
   "cell_type": "code",
   "execution_count": 338,
   "metadata": {},
   "outputs": [
    {
     "name": "stderr",
     "output_type": "stream",
     "text": [
      "/Users/shengchengchen/opt/anaconda3/lib/python3.7/site-packages/ipykernel_launcher.py:1: SettingWithCopyWarning: \n",
      "A value is trying to be set on a copy of a slice from a DataFrame.\n",
      "Try using .loc[row_indexer,col_indexer] = value instead\n",
      "\n",
      "See the caveats in the documentation: http://pandas.pydata.org/pandas-docs/stable/user_guide/indexing.html#returning-a-view-versus-a-copy\n",
      "  \"\"\"Entry point for launching an IPython kernel.\n"
     ]
    },
    {
     "data": {
      "image/png": "[encoded data removed]",
      "text/plain": [
       "<Figure size 432x288 with 1 Axes>"
      ]
     },
     "metadata": {
      "needs_background": "light"
     },
     "output_type": "display_data"
    }
   ],
   "source": [
    "data['A*B'] = data['A'] * data['B']\n",
    "data.plot(x='A*B', y='C', style='o')  \n",
    "plt.title('B vs C')  \n",
    "plt.xlabel('A')  \n",
    "plt.ylabel('C')  \n",
    "plt.show()"
   ]
  },
  {
   "cell_type": "code",
   "execution_count": 339,
   "metadata": {},
   "outputs": [
    {
     "name": "stderr",
     "output_type": "stream",
     "text": [
      "/Users/shengchengchen/opt/anaconda3/lib/python3.7/site-packages/ipykernel_launcher.py:1: SettingWithCopyWarning: \n",
      "A value is trying to be set on a copy of a slice from a DataFrame.\n",
      "Try using .loc[row_indexer,col_indexer] = value instead\n",
      "\n",
      "See the caveats in the documentation: http://pandas.pydata.org/pandas-docs/stable/user_guide/indexing.html#returning-a-view-versus-a-copy\n",
      "  \"\"\"Entry point for launching an IPython kernel.\n"
     ]
    },
    {
     "data": {
      "text/html": [
       "<div>\n",
       "<style scoped>\n",
       "    .dataframe tbody tr th:only-of-type {\n",
       "        vertical-align: middle;\n",
       "    }\n",
       "\n",
       "    .dataframe tbody tr th {\n",
       "        vertical-align: top;\n",
       "    }\n",
       "\n",
       "    .dataframe thead th {\n",
       "        text-align: right;\n",
       "    }\n",
       "</style>\n",
       "<table border=\"1\" class=\"dataframe\">\n",
       "  <thead>\n",
       "    <tr style=\"text-align: right;\">\n",
       "      <th></th>\n",
       "      <th>A</th>\n",
       "      <th>B</th>\n",
       "      <th>C</th>\n",
       "      <th>|A|*B</th>\n",
       "    </tr>\n",
       "  </thead>\n",
       "  <tbody>\n",
       "    <tr>\n",
       "      <td>0</td>\n",
       "      <td>0.490</td>\n",
       "      <td>-0.180</td>\n",
       "      <td>11.50</td>\n",
       "      <td>-0.08820</td>\n",
       "    </tr>\n",
       "    <tr>\n",
       "      <td>1</td>\n",
       "      <td>-1.410</td>\n",
       "      <td>-1.230</td>\n",
       "      <td>11.80</td>\n",
       "      <td>-1.73430</td>\n",
       "    </tr>\n",
       "    <tr>\n",
       "      <td>2</td>\n",
       "      <td>0.943</td>\n",
       "      <td>4.510</td>\n",
       "      <td>-3.24</td>\n",
       "      <td>4.25293</td>\n",
       "    </tr>\n",
       "    <tr>\n",
       "      <td>3</td>\n",
       "      <td>3.570</td>\n",
       "      <td>5.070</td>\n",
       "      <td>-23.90</td>\n",
       "      <td>18.09990</td>\n",
       "    </tr>\n",
       "    <tr>\n",
       "      <td>4</td>\n",
       "      <td>-1.700</td>\n",
       "      <td>6.910</td>\n",
       "      <td>-22.10</td>\n",
       "      <td>11.74700</td>\n",
       "    </tr>\n",
       "    <tr>\n",
       "      <td>...</td>\n",
       "      <td>...</td>\n",
       "      <td>...</td>\n",
       "      <td>...</td>\n",
       "      <td>...</td>\n",
       "    </tr>\n",
       "    <tr>\n",
       "      <td>292</td>\n",
       "      <td>7.230</td>\n",
       "      <td>6.690</td>\n",
       "      <td>-136.00</td>\n",
       "      <td>48.36870</td>\n",
       "    </tr>\n",
       "    <tr>\n",
       "      <td>295</td>\n",
       "      <td>6.920</td>\n",
       "      <td>-0.421</td>\n",
       "      <td>33.20</td>\n",
       "      <td>-2.91332</td>\n",
       "    </tr>\n",
       "    <tr>\n",
       "      <td>296</td>\n",
       "      <td>11.700</td>\n",
       "      <td>-1.290</td>\n",
       "      <td>108.00</td>\n",
       "      <td>-15.09300</td>\n",
       "    </tr>\n",
       "    <tr>\n",
       "      <td>297</td>\n",
       "      <td>9.920</td>\n",
       "      <td>3.690</td>\n",
       "      <td>-126.00</td>\n",
       "      <td>36.60480</td>\n",
       "    </tr>\n",
       "    <tr>\n",
       "      <td>299</td>\n",
       "      <td>10.900</td>\n",
       "      <td>2.570</td>\n",
       "      <td>-97.70</td>\n",
       "      <td>28.01300</td>\n",
       "    </tr>\n",
       "  </tbody>\n",
       "</table>\n",
       "<p>278 rows × 4 columns</p>\n",
       "</div>"
      ],
      "text/plain": [
       "          A      B       C     |A|*B\n",
       "0     0.490 -0.180   11.50  -0.08820\n",
       "1    -1.410 -1.230   11.80  -1.73430\n",
       "2     0.943  4.510   -3.24   4.25293\n",
       "3     3.570  5.070  -23.90  18.09990\n",
       "4    -1.700  6.910  -22.10  11.74700\n",
       "..      ...    ...     ...       ...\n",
       "292   7.230  6.690 -136.00  48.36870\n",
       "295   6.920 -0.421   33.20  -2.91332\n",
       "296  11.700 -1.290  108.00 -15.09300\n",
       "297   9.920  3.690 -126.00  36.60480\n",
       "299  10.900  2.570  -97.70  28.01300\n",
       "\n",
       "[278 rows x 4 columns]"
      ]
     },
     "execution_count": 339,
     "metadata": {},
     "output_type": "execute_result"
    }
   ],
   "source": [
    "data['|A|*B'] = data['A'].abs() * data['B']\n",
    "del data['A*B']\n",
    "data"
   ]
  },
  {
   "cell_type": "code",
   "execution_count": 340,
   "metadata": {},
   "outputs": [
    {
     "data": {
      "image/png": "[encoded data removed]",
      "text/plain": [
       "<Figure size 432x288 with 1 Axes>"
      ]
     },
     "metadata": {
      "needs_background": "light"
     },
     "output_type": "display_data"
    }
   ],
   "source": [
    "data.plot(x='|A|*B', y='C', style='o')  \n",
    "plt.title('|A| vs C')  \n",
    "plt.xlabel('A')  \n",
    "plt.ylabel('C')  \n",
    "plt.show()\n",
    "# Linear relationship between "
   ]
  },
  {
   "cell_type": "code",
   "execution_count": 341,
   "metadata": {
    "scrolled": true
   },
   "outputs": [
    {
     "data": {
      "text/html": [
       "<div>\n",
       "<style scoped>\n",
       "    .dataframe tbody tr th:only-of-type {\n",
       "        vertical-align: middle;\n",
       "    }\n",
       "\n",
       "    .dataframe tbody tr th {\n",
       "        vertical-align: top;\n",
       "    }\n",
       "\n",
       "    .dataframe thead th {\n",
       "        text-align: right;\n",
       "    }\n",
       "</style>\n",
       "<table border=\"1\" class=\"dataframe\">\n",
       "  <thead>\n",
       "    <tr style=\"text-align: right;\">\n",
       "      <th></th>\n",
       "      <th>A</th>\n",
       "      <th>B</th>\n",
       "      <th>C</th>\n",
       "      <th>|A|*B</th>\n",
       "    </tr>\n",
       "  </thead>\n",
       "  <tbody>\n",
       "    <tr>\n",
       "      <td>30</td>\n",
       "      <td>-2.81</td>\n",
       "      <td>-0.0679</td>\n",
       "      <td>4.81</td>\n",
       "      <td>-0.190799</td>\n",
       "    </tr>\n",
       "    <tr>\n",
       "      <td>126</td>\n",
       "      <td>-3.97</td>\n",
       "      <td>6.3300</td>\n",
       "      <td>-56.80</td>\n",
       "      <td>25.130100</td>\n",
       "    </tr>\n",
       "    <tr>\n",
       "      <td>199</td>\n",
       "      <td>-4.43</td>\n",
       "      <td>-0.5990</td>\n",
       "      <td>7.63</td>\n",
       "      <td>-2.653570</td>\n",
       "    </tr>\n",
       "    <tr>\n",
       "      <td>142</td>\n",
       "      <td>-5.82</td>\n",
       "      <td>-2.4400</td>\n",
       "      <td>38.70</td>\n",
       "      <td>-14.200800</td>\n",
       "    </tr>\n",
       "    <tr>\n",
       "      <td>269</td>\n",
       "      <td>9.39</td>\n",
       "      <td>-1.7200</td>\n",
       "      <td>94.80</td>\n",
       "      <td>-16.150800</td>\n",
       "    </tr>\n",
       "    <tr>\n",
       "      <td>...</td>\n",
       "      <td>...</td>\n",
       "      <td>...</td>\n",
       "      <td>...</td>\n",
       "      <td>...</td>\n",
       "    </tr>\n",
       "    <tr>\n",
       "      <td>188</td>\n",
       "      <td>-3.54</td>\n",
       "      <td>5.6200</td>\n",
       "      <td>-42.10</td>\n",
       "      <td>19.894800</td>\n",
       "    </tr>\n",
       "    <tr>\n",
       "      <td>71</td>\n",
       "      <td>3.61</td>\n",
       "      <td>1.6900</td>\n",
       "      <td>3.36</td>\n",
       "      <td>6.100900</td>\n",
       "    </tr>\n",
       "    <tr>\n",
       "      <td>106</td>\n",
       "      <td>4.66</td>\n",
       "      <td>-0.2260</td>\n",
       "      <td>22.00</td>\n",
       "      <td>-1.053160</td>\n",
       "    </tr>\n",
       "    <tr>\n",
       "      <td>289</td>\n",
       "      <td>7.13</td>\n",
       "      <td>6.8200</td>\n",
       "      <td>-135.00</td>\n",
       "      <td>48.626600</td>\n",
       "    </tr>\n",
       "    <tr>\n",
       "      <td>102</td>\n",
       "      <td>-2.03</td>\n",
       "      <td>6.5000</td>\n",
       "      <td>-24.30</td>\n",
       "      <td>13.195000</td>\n",
       "    </tr>\n",
       "  </tbody>\n",
       "</table>\n",
       "<p>278 rows × 4 columns</p>\n",
       "</div>"
      ],
      "text/plain": [
       "        A       B       C      |A|*B\n",
       "30  -2.81 -0.0679    4.81  -0.190799\n",
       "126 -3.97  6.3300  -56.80  25.130100\n",
       "199 -4.43 -0.5990    7.63  -2.653570\n",
       "142 -5.82 -2.4400   38.70 -14.200800\n",
       "269  9.39 -1.7200   94.80 -16.150800\n",
       "..    ...     ...     ...        ...\n",
       "188 -3.54  5.6200  -42.10  19.894800\n",
       "71   3.61  1.6900    3.36   6.100900\n",
       "106  4.66 -0.2260   22.00  -1.053160\n",
       "289  7.13  6.8200 -135.00  48.626600\n",
       "102 -2.03  6.5000  -24.30  13.195000\n",
       "\n",
       "[278 rows x 4 columns]"
      ]
     },
     "execution_count": 341,
     "metadata": {},
     "output_type": "execute_result"
    }
   ],
   "source": [
    "# Random shuffle the dataset for train test split.\n",
    "data = data.iloc[np.random.RandomState(seed=42).permutation(len(data))] #.reset_index(drop=True)\n",
    "data"
   ]
  },
  {
   "cell_type": "code",
   "execution_count": 342,
   "metadata": {},
   "outputs": [
    {
     "name": "stdout",
     "output_type": "stream",
     "text": [
      "     index       A       B      C      |A|*B\n",
      "0       30 -2.8100 -0.0679   4.81  -0.190799\n",
      "1      126 -3.9700  6.3300 -56.80  25.130100\n",
      "2      199 -4.4300 -0.5990   7.63  -2.653570\n",
      "3      142 -5.8200 -2.4400  38.70 -14.200800\n",
      "4      269  9.3900 -1.7200  94.80 -16.150800\n",
      "..     ...     ...     ...    ...        ...\n",
      "189    153 -0.3030 -1.7100  14.60  -0.518130\n",
      "190     23 -5.2700 -2.0900  28.90 -11.014300\n",
      "191    238  7.0100  3.1800 -48.20  22.291800\n",
      "192    233  7.0500  4.4800 -78.40  31.584000\n",
      "193     81  0.0713  5.6900  -6.93   0.405697\n",
      "\n",
      "[194 rows x 5 columns]\n",
      "    index       A      B       C     |A|*B\n",
      "0      39  -0.409  2.500    1.53   1.02250\n",
      "1     201  10.700 -1.710  115.00 -18.29700\n",
      "2     265   5.260  2.370  -12.80  12.46620\n",
      "3      47   2.170 -1.990   24.10  -4.31830\n",
      "4      94  -2.180  3.290  -10.50   7.17220\n",
      "..    ...     ...    ...     ...       ...\n",
      "79    188  -3.540  5.620  -42.10  19.89480\n",
      "80     71   3.610  1.690    3.36   6.10090\n",
      "81    106   4.660 -0.226   22.00  -1.05316\n",
      "82    289   7.130  6.820 -135.00  48.62660\n",
      "83    102  -2.030  6.500  -24.30  13.19500\n",
      "\n",
      "[84 rows x 5 columns]\n"
     ]
    }
   ],
   "source": [
    "# Split the data set to 70% training and 30% testing\n",
    "data_train = data.head(int(len(data)*0.7)).reset_index()\n",
    "data_test = data.tail(len(data)-int(len(data)*0.7)).reset_index()\n",
    "print(data_train)\n",
    "print(data_test)"
   ]
  },
  {
   "cell_type": "code",
   "execution_count": 343,
   "metadata": {},
   "outputs": [
    {
     "name": "stdout",
     "output_type": "stream",
     "text": [
      "[ 1.18478845e+01  1.45314711e-03  1.96248283e+00  7.09852620e-01\n",
      " -3.37211710e+00]\n"
     ]
    }
   ],
   "source": [
    "# Train the regression model.\n",
    "X = data_train.drop('C', axis=1).values\n",
    "y = data_train['C'].values\n",
    "ones = np.ones(shape=X.shape[0]).reshape(-1, 1)\n",
    "X = np.concatenate((ones, X),axis=1)\n",
    "\n",
    "# Solve the coefficients for ordinary least square regression.\n",
    "beta = np.linalg.inv(X.transpose().dot(X)).dot(X.transpose()).dot(y)\n",
    "print(beta)"
   ]
  },
  {
   "cell_type": "code",
   "execution_count": 344,
   "metadata": {},
   "outputs": [
    {
     "data": {
      "text/html": [
       "<div>\n",
       "<style scoped>\n",
       "    .dataframe tbody tr th:only-of-type {\n",
       "        vertical-align: middle;\n",
       "    }\n",
       "\n",
       "    .dataframe tbody tr th {\n",
       "        vertical-align: top;\n",
       "    }\n",
       "\n",
       "    .dataframe thead th {\n",
       "        text-align: right;\n",
       "    }\n",
       "</style>\n",
       "<table border=\"1\" class=\"dataframe\">\n",
       "  <thead>\n",
       "    <tr style=\"text-align: right;\">\n",
       "      <th></th>\n",
       "      <th>A</th>\n",
       "      <th>B</th>\n",
       "      <th>|A|*B</th>\n",
       "      <th>C</th>\n",
       "      <th>C_pred</th>\n",
       "    </tr>\n",
       "  </thead>\n",
       "  <tbody>\n",
       "    <tr>\n",
       "      <td>0</td>\n",
       "      <td>-2.8100</td>\n",
       "      <td>-0.0679</td>\n",
       "      <td>-0.190799</td>\n",
       "      <td>4.81</td>\n",
       "      <td>6.972100</td>\n",
       "    </tr>\n",
       "    <tr>\n",
       "      <td>1</td>\n",
       "      <td>-3.9700</td>\n",
       "      <td>6.3300</td>\n",
       "      <td>25.130100</td>\n",
       "      <td>-56.80</td>\n",
       "      <td>-76.008349</td>\n",
       "    </tr>\n",
       "    <tr>\n",
       "      <td>2</td>\n",
       "      <td>-4.4300</td>\n",
       "      <td>-0.5990</td>\n",
       "      <td>-2.653570</td>\n",
       "      <td>7.63</td>\n",
       "      <td>11.966209</td>\n",
       "    </tr>\n",
       "    <tr>\n",
       "      <td>3</td>\n",
       "      <td>-5.8200</td>\n",
       "      <td>-2.4400</td>\n",
       "      <td>-14.200800</td>\n",
       "      <td>38.70</td>\n",
       "      <td>46.787301</td>\n",
       "    </tr>\n",
       "    <tr>\n",
       "      <td>4</td>\n",
       "      <td>9.3900</td>\n",
       "      <td>-1.7200</td>\n",
       "      <td>-16.150800</td>\n",
       "      <td>94.80</td>\n",
       "      <td>83.907937</td>\n",
       "    </tr>\n",
       "    <tr>\n",
       "      <td>...</td>\n",
       "      <td>...</td>\n",
       "      <td>...</td>\n",
       "      <td>...</td>\n",
       "      <td>...</td>\n",
       "      <td>...</td>\n",
       "    </tr>\n",
       "    <tr>\n",
       "      <td>189</td>\n",
       "      <td>-0.3030</td>\n",
       "      <td>-1.7100</td>\n",
       "      <td>-0.518130</td>\n",
       "      <td>14.60</td>\n",
       "      <td>12.008931</td>\n",
       "    </tr>\n",
       "    <tr>\n",
       "      <td>190</td>\n",
       "      <td>-5.2700</td>\n",
       "      <td>-2.0900</td>\n",
       "      <td>-11.014300</td>\n",
       "      <td>28.90</td>\n",
       "      <td>37.196940</td>\n",
       "    </tr>\n",
       "    <tr>\n",
       "      <td>191</td>\n",
       "      <td>7.0100</td>\n",
       "      <td>3.1800</td>\n",
       "      <td>22.291800</td>\n",
       "      <td>-48.20</td>\n",
       "      <td>-46.962490</td>\n",
       "    </tr>\n",
       "    <tr>\n",
       "      <td>192</td>\n",
       "      <td>7.0500</td>\n",
       "      <td>4.4800</td>\n",
       "      <td>31.584000</td>\n",
       "      <td>-78.40</td>\n",
       "      <td>-77.302835</td>\n",
       "    </tr>\n",
       "    <tr>\n",
       "      <td>193</td>\n",
       "      <td>0.0713</td>\n",
       "      <td>5.6900</td>\n",
       "      <td>0.405697</td>\n",
       "      <td>-6.93</td>\n",
       "      <td>14.776518</td>\n",
       "    </tr>\n",
       "  </tbody>\n",
       "</table>\n",
       "<p>194 rows × 5 columns</p>\n",
       "</div>"
      ],
      "text/plain": [
       "          A       B      |A|*B      C     C_pred\n",
       "0   -2.8100 -0.0679  -0.190799   4.81   6.972100\n",
       "1   -3.9700  6.3300  25.130100 -56.80 -76.008349\n",
       "2   -4.4300 -0.5990  -2.653570   7.63  11.966209\n",
       "3   -5.8200 -2.4400 -14.200800  38.70  46.787301\n",
       "4    9.3900 -1.7200 -16.150800  94.80  83.907937\n",
       "..      ...     ...        ...    ...        ...\n",
       "189 -0.3030 -1.7100  -0.518130  14.60  12.008931\n",
       "190 -5.2700 -2.0900 -11.014300  28.90  37.196940\n",
       "191  7.0100  3.1800  22.291800 -48.20 -46.962490\n",
       "192  7.0500  4.4800  31.584000 -78.40 -77.302835\n",
       "193  0.0713  5.6900   0.405697  -6.93  14.776518\n",
       "\n",
       "[194 rows x 5 columns]"
      ]
     },
     "execution_count": 344,
     "metadata": {},
     "output_type": "execute_result"
    }
   ],
   "source": [
    "beta0 = beta[0]\n",
    "beta_coeff = beta[1:]\n",
    "rows, _ = data_train.shape\n",
    "y_pred = []\n",
    "A_abs_B = data_train.drop('C', axis=1)\n",
    "\n",
    "# Make predictions\n",
    "for row in range(rows):\n",
    "    y_pred.append(beta0 + beta_coeff.dot(A_abs_B.values[row, :]))\n",
    "data_train['C_pred'] = np.ravel(y_pred)\n",
    "\n",
    "# Reorder columns\n",
    "data_train = data_train[['A', 'B', '|A|*B', 'C', 'C_pred']]\n",
    "data_train"
   ]
  },
  {
   "cell_type": "code",
   "execution_count": 345,
   "metadata": {},
   "outputs": [
    {
     "name": "stdout",
     "output_type": "stream",
     "text": [
      "0.9384794124804481\n"
     ]
    }
   ],
   "source": [
    "# Coefficient of Determination.\n",
    "# Compute Sum of Sqaured Error and Sum of Sqaured Total.\n",
    "SSE = ((data_train['C_pred'] - data_train['C'])**2).sum()\n",
    "SST = ((data_train['C'] - data_train['C'].mean())**2).sum()\n",
    "# Compute r squared to measure performance.\n",
    "r_sq = 1 - SSE/SST\n",
    "print(r_sq)\n",
    "# R squared for training set is high."
   ]
  },
  {
   "cell_type": "code",
   "execution_count": 346,
   "metadata": {},
   "outputs": [
    {
     "name": "stdout",
     "output_type": "stream",
     "text": [
      "0.9359914968357479\n"
     ]
    }
   ],
   "source": [
    "rows, _ = data_test.shape\n",
    "y_pred = []\n",
    "A_abs_B = data_test.drop('C', axis=1)\n",
    "\n",
    "# Make predictions.\n",
    "for row in range(rows):\n",
    "    y_pred.append(beta0 + beta_coeff.dot(A_abs_B.values[row, :]))\n",
    "data_test['C_pred'] = np.ravel(y_pred)\n",
    "\n",
    "SSE = ((data_test['C_pred'] - data_test['C'])**2).sum()\n",
    "SST = ((data_test['C'] - data_test['C'].mean())**2).sum()\n",
    "# Compute r squared to measure performance.\n",
    "osr_sq = 1 - SSE/SST\n",
    "print(osr_sq)"
   ]
  },
  {
   "cell_type": "code",
   "execution_count": 347,
   "metadata": {},
   "outputs": [],
   "source": [
    "# The out of sameple R^2 (test set) is 0.936 which is only slightly lower than training set R^2\n",
    "# Therefore, overfitting is NOT a major issue for the model.\n",
    "# 0.936 OS-R^2 is high, thus C can be predicted by A and B."
   ]
  }
 ],
 "metadata": {
  "kernelspec": {
   "display_name": "Python 3",
   "language": "python",
   "name": "python3"
  },
  "language_info": {
   "codemirror_mode": {
    "name": "ipython",
    "version": 3
   },
   "file_extension": ".py",
   "mimetype": "text/x-python",
   "name": "python",
   "nbconvert_exporter": "python",
   "pygments_lexer": "ipython3",
   "version": "3.7.4"
  }
 },
 "nbformat": 4,
 "nbformat_minor": 2
}
